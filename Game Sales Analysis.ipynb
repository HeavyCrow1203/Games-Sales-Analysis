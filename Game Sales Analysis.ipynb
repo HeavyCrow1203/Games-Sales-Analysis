{
 "cells": [
  {
   "cell_type": "markdown",
   "id": "4ea27d4e-8e0d-4e8a-b744-94b8df5d9db4",
   "metadata": {},
   "source": [
    "# Game Sales Data Analysis"
   ]
  },
  {
   "cell_type": "code",
   "execution_count": 19,
   "id": "9d077e5e-4393-4add-8683-cb29865ea89d",
   "metadata": {},
   "outputs": [],
   "source": [
    "import pandas as pd\n",
    "import numpy as np\n",
    "import matplotlib.pyplot as plt\n",
    "import seaborn as sns"
   ]
  },
  {
   "cell_type": "markdown",
   "id": "ee911647-aa1e-489f-9192-75d3fd7488a7",
   "metadata": {},
   "source": [
    "## Data Gathering"
   ]
  },
  {
   "cell_type": "code",
   "execution_count": 20,
   "id": "1604f4ac-0c63-49df-962b-63bf0740ec78",
   "metadata": {},
   "outputs": [
    {
     "data": {
      "text/html": [
       "<div>\n",
       "<style scoped>\n",
       "    .dataframe tbody tr th:only-of-type {\n",
       "        vertical-align: middle;\n",
       "    }\n",
       "\n",
       "    .dataframe tbody tr th {\n",
       "        vertical-align: top;\n",
       "    }\n",
       "\n",
       "    .dataframe thead th {\n",
       "        text-align: right;\n",
       "    }\n",
       "</style>\n",
       "<table border=\"1\" class=\"dataframe\">\n",
       "  <thead>\n",
       "    <tr style=\"text-align: right;\">\n",
       "      <th></th>\n",
       "      <th>Name</th>\n",
       "      <th>Sales</th>\n",
       "      <th>Series</th>\n",
       "      <th>Release</th>\n",
       "      <th>Genre</th>\n",
       "      <th>Developer</th>\n",
       "      <th>Publisher</th>\n",
       "    </tr>\n",
       "  </thead>\n",
       "  <tbody>\n",
       "    <tr>\n",
       "      <th>0</th>\n",
       "      <td>PlayerUnknown's Battlegrounds</td>\n",
       "      <td>42.0</td>\n",
       "      <td>NaN</td>\n",
       "      <td>12/1/2017</td>\n",
       "      <td>Battle royale</td>\n",
       "      <td>PUBG Studios</td>\n",
       "      <td>Krafton</td>\n",
       "    </tr>\n",
       "    <tr>\n",
       "      <th>1</th>\n",
       "      <td>Minecraft</td>\n",
       "      <td>33.0</td>\n",
       "      <td>Minecraft</td>\n",
       "      <td>11/1/2011</td>\n",
       "      <td>Sandbox, survival</td>\n",
       "      <td>Mojang Studios</td>\n",
       "      <td>Mojang Studios</td>\n",
       "    </tr>\n",
       "    <tr>\n",
       "      <th>2</th>\n",
       "      <td>Diablo III</td>\n",
       "      <td>20.0</td>\n",
       "      <td>Diablo</td>\n",
       "      <td>5/1/2012</td>\n",
       "      <td>Action role-playing</td>\n",
       "      <td>Blizzard Entertainment</td>\n",
       "      <td>Blizzard Entertainment</td>\n",
       "    </tr>\n",
       "    <tr>\n",
       "      <th>3</th>\n",
       "      <td>Garry's Mod</td>\n",
       "      <td>20.0</td>\n",
       "      <td>NaN</td>\n",
       "      <td>11/1/2006</td>\n",
       "      <td>Sandbox</td>\n",
       "      <td>Facepunch Studios</td>\n",
       "      <td>Valve</td>\n",
       "    </tr>\n",
       "    <tr>\n",
       "      <th>4</th>\n",
       "      <td>Terraria</td>\n",
       "      <td>17.2</td>\n",
       "      <td>NaN</td>\n",
       "      <td>5/1/2011</td>\n",
       "      <td>Action-adventure</td>\n",
       "      <td>Re-Logic</td>\n",
       "      <td>Re-Logic</td>\n",
       "    </tr>\n",
       "  </tbody>\n",
       "</table>\n",
       "</div>"
      ],
      "text/plain": [
       "                            Name  Sales     Series    Release  \\\n",
       "0  PlayerUnknown's Battlegrounds   42.0        NaN  12/1/2017   \n",
       "1                      Minecraft   33.0  Minecraft  11/1/2011   \n",
       "2                     Diablo III   20.0     Diablo   5/1/2012   \n",
       "3                    Garry's Mod   20.0        NaN  11/1/2006   \n",
       "4                       Terraria   17.2        NaN   5/1/2011   \n",
       "\n",
       "                 Genre               Developer               Publisher  \n",
       "0        Battle royale            PUBG Studios                 Krafton  \n",
       "1    Sandbox, survival          Mojang Studios          Mojang Studios  \n",
       "2  Action role-playing  Blizzard Entertainment  Blizzard Entertainment  \n",
       "3              Sandbox       Facepunch Studios                   Valve  \n",
       "4     Action-adventure                Re-Logic                Re-Logic  "
      ]
     },
     "execution_count": 20,
     "metadata": {},
     "output_type": "execute_result"
    }
   ],
   "source": [
    "df = pd.read_csv('H:/Code-Program/python/Data Analysis/Game Analysis/Games Sales.csv')\n",
    "df.head()"
   ]
  },
  {
   "cell_type": "markdown",
   "id": "2d824621-df84-487e-8e5b-bdecf434bc7d",
   "metadata": {},
   "source": [
    "## Assessing Data"
   ]
  },
  {
   "cell_type": "code",
   "execution_count": 21,
   "id": "9dbd27b7-25a7-4125-b342-20aa1db70f60",
   "metadata": {},
   "outputs": [
    {
     "name": "stdout",
     "output_type": "stream",
     "text": [
      "(177, 7)\n",
      "total columns in the dataset =  7\n",
      "total rows in the dataset =  177\n"
     ]
    }
   ],
   "source": [
    "print(df.shape)\n",
    "print('total columns in the dataset = ',df.shape[1])\n",
    "print('total rows in the dataset = ',df.shape[0])"
   ]
  },
  {
   "cell_type": "code",
   "execution_count": 22,
   "id": "e65bf396-3353-4a97-9375-56b9f3a59f2f",
   "metadata": {},
   "outputs": [
    {
     "data": {
      "text/plain": [
       "Index(['Name', 'Sales', 'Series', 'Release', 'Genre', 'Developer',\n",
       "       'Publisher'],\n",
       "      dtype='object')"
      ]
     },
     "execution_count": 22,
     "metadata": {},
     "output_type": "execute_result"
    }
   ],
   "source": [
    "df.columns"
   ]
  },
  {
   "cell_type": "code",
   "execution_count": 23,
   "id": "e6ea4df5-e702-4498-9978-c6a34921a773",
   "metadata": {},
   "outputs": [
    {
     "name": "stdout",
     "output_type": "stream",
     "text": [
      "<class 'pandas.core.frame.DataFrame'>\n",
      "RangeIndex: 177 entries, 0 to 176\n",
      "Data columns (total 7 columns):\n",
      " #   Column     Non-Null Count  Dtype  \n",
      "---  ------     --------------  -----  \n",
      " 0   Name       177 non-null    object \n",
      " 1   Sales      177 non-null    float64\n",
      " 2   Series     141 non-null    object \n",
      " 3   Release    177 non-null    object \n",
      " 4   Genre      177 non-null    object \n",
      " 5   Developer  177 non-null    object \n",
      " 6   Publisher  177 non-null    object \n",
      "dtypes: float64(1), object(6)\n",
      "memory usage: 9.8+ KB\n"
     ]
    }
   ],
   "source": [
    "df.info()"
   ]
  },
  {
   "cell_type": "code",
   "execution_count": 24,
   "id": "931b2787-62f7-4f43-84de-25ecea18a328",
   "metadata": {},
   "outputs": [
    {
     "data": {
      "text/plain": [
       "Name          0\n",
       "Sales         0\n",
       "Series       36\n",
       "Release       0\n",
       "Genre         0\n",
       "Developer     0\n",
       "Publisher     0\n",
       "dtype: int64"
      ]
     },
     "execution_count": 24,
     "metadata": {},
     "output_type": "execute_result"
    }
   ],
   "source": [
    "df.isnull().sum()"
   ]
  },
  {
   "cell_type": "code",
   "execution_count": 25,
   "id": "a2132925-b05a-4946-bed3-4cf3805b860b",
   "metadata": {},
   "outputs": [
    {
     "data": {
      "text/plain": [
       "Name          0\n",
       "Sales         0\n",
       "Series       36\n",
       "Release       0\n",
       "Genre         0\n",
       "Developer     0\n",
       "Publisher     0\n",
       "dtype: int64"
      ]
     },
     "execution_count": 25,
     "metadata": {},
     "output_type": "execute_result"
    }
   ],
   "source": [
    "df.isna().sum()"
   ]
  },
  {
   "cell_type": "code",
   "execution_count": 26,
   "id": "b3f53a9a-27ea-4f43-89e6-94f4ae2251f7",
   "metadata": {},
   "outputs": [
    {
     "data": {
      "text/plain": [
       "2"
      ]
     },
     "execution_count": 26,
     "metadata": {},
     "output_type": "execute_result"
    }
   ],
   "source": [
    "df.duplicated().sum()"
   ]
  },
  {
   "cell_type": "code",
   "execution_count": 27,
   "id": "34436a24-472a-4fb2-bc16-0b209ff90545",
   "metadata": {},
   "outputs": [
    {
     "data": {
      "text/html": [
       "<div>\n",
       "<style scoped>\n",
       "    .dataframe tbody tr th:only-of-type {\n",
       "        vertical-align: middle;\n",
       "    }\n",
       "\n",
       "    .dataframe tbody tr th {\n",
       "        vertical-align: top;\n",
       "    }\n",
       "\n",
       "    .dataframe thead th {\n",
       "        text-align: right;\n",
       "    }\n",
       "</style>\n",
       "<table border=\"1\" class=\"dataframe\">\n",
       "  <thead>\n",
       "    <tr style=\"text-align: right;\">\n",
       "      <th></th>\n",
       "      <th>Name</th>\n",
       "      <th>Sales</th>\n",
       "      <th>Series</th>\n",
       "      <th>Release</th>\n",
       "      <th>Genre</th>\n",
       "      <th>Developer</th>\n",
       "      <th>Publisher</th>\n",
       "    </tr>\n",
       "  </thead>\n",
       "  <tbody>\n",
       "    <tr>\n",
       "      <th>157</th>\n",
       "      <td>StarCraft II: Heart of the Swarm</td>\n",
       "      <td>1.0</td>\n",
       "      <td>StarCraft</td>\n",
       "      <td>3/1/2013</td>\n",
       "      <td>Real-time strategy</td>\n",
       "      <td>Blizzard Entertainment</td>\n",
       "      <td>Blizzard Entertainment</td>\n",
       "    </tr>\n",
       "    <tr>\n",
       "      <th>158</th>\n",
       "      <td>StarCraft II: Legacy of the Void</td>\n",
       "      <td>1.0</td>\n",
       "      <td>StarCraft</td>\n",
       "      <td>11/1/2015</td>\n",
       "      <td>Real-time strategy</td>\n",
       "      <td>Blizzard Entertainment</td>\n",
       "      <td>Blizzard Entertainment</td>\n",
       "    </tr>\n",
       "    <tr>\n",
       "      <th>175</th>\n",
       "      <td>StarCraft II: Heart of the Swarm</td>\n",
       "      <td>1.0</td>\n",
       "      <td>StarCraft</td>\n",
       "      <td>3/1/2013</td>\n",
       "      <td>Real-time strategy</td>\n",
       "      <td>Blizzard Entertainment</td>\n",
       "      <td>Blizzard Entertainment</td>\n",
       "    </tr>\n",
       "    <tr>\n",
       "      <th>176</th>\n",
       "      <td>StarCraft II: Legacy of the Void</td>\n",
       "      <td>1.0</td>\n",
       "      <td>StarCraft</td>\n",
       "      <td>11/1/2015</td>\n",
       "      <td>Real-time strategy</td>\n",
       "      <td>Blizzard Entertainment</td>\n",
       "      <td>Blizzard Entertainment</td>\n",
       "    </tr>\n",
       "  </tbody>\n",
       "</table>\n",
       "</div>"
      ],
      "text/plain": [
       "                                 Name  Sales     Series    Release  \\\n",
       "157  StarCraft II: Heart of the Swarm    1.0  StarCraft   3/1/2013   \n",
       "158  StarCraft II: Legacy of the Void    1.0  StarCraft  11/1/2015   \n",
       "175  StarCraft II: Heart of the Swarm    1.0  StarCraft   3/1/2013   \n",
       "176  StarCraft II: Legacy of the Void    1.0  StarCraft  11/1/2015   \n",
       "\n",
       "                  Genre               Developer               Publisher  \n",
       "157  Real-time strategy  Blizzard Entertainment  Blizzard Entertainment  \n",
       "158  Real-time strategy  Blizzard Entertainment  Blizzard Entertainment  \n",
       "175  Real-time strategy  Blizzard Entertainment  Blizzard Entertainment  \n",
       "176  Real-time strategy  Blizzard Entertainment  Blizzard Entertainment  "
      ]
     },
     "execution_count": 27,
     "metadata": {},
     "output_type": "execute_result"
    }
   ],
   "source": [
    "df[df.duplicated(keep=False)]"
   ]
  },
  {
   "cell_type": "code",
   "execution_count": 28,
   "id": "ada55f1e-d0a3-4e0b-bd91-3e42c70507a7",
   "metadata": {},
   "outputs": [
    {
     "data": {
      "text/html": [
       "<div>\n",
       "<style scoped>\n",
       "    .dataframe tbody tr th:only-of-type {\n",
       "        vertical-align: middle;\n",
       "    }\n",
       "\n",
       "    .dataframe tbody tr th {\n",
       "        vertical-align: top;\n",
       "    }\n",
       "\n",
       "    .dataframe thead th {\n",
       "        text-align: right;\n",
       "    }\n",
       "</style>\n",
       "<table border=\"1\" class=\"dataframe\">\n",
       "  <thead>\n",
       "    <tr style=\"text-align: right;\">\n",
       "      <th></th>\n",
       "      <th>Name</th>\n",
       "      <th>Sales</th>\n",
       "      <th>Series</th>\n",
       "      <th>Release</th>\n",
       "      <th>Genre</th>\n",
       "      <th>Developer</th>\n",
       "      <th>Publisher</th>\n",
       "    </tr>\n",
       "  </thead>\n",
       "  <tbody>\n",
       "    <tr>\n",
       "      <th>count</th>\n",
       "      <td>177</td>\n",
       "      <td>177.000000</td>\n",
       "      <td>141</td>\n",
       "      <td>177</td>\n",
       "      <td>177</td>\n",
       "      <td>177</td>\n",
       "      <td>177</td>\n",
       "    </tr>\n",
       "    <tr>\n",
       "      <th>unique</th>\n",
       "      <td>175</td>\n",
       "      <td>NaN</td>\n",
       "      <td>91</td>\n",
       "      <td>130</td>\n",
       "      <td>61</td>\n",
       "      <td>109</td>\n",
       "      <td>96</td>\n",
       "    </tr>\n",
       "    <tr>\n",
       "      <th>top</th>\n",
       "      <td>StarCraft II: Heart of the Swarm</td>\n",
       "      <td>NaN</td>\n",
       "      <td>StarCraft</td>\n",
       "      <td>3/1/2013</td>\n",
       "      <td>Real-time strategy</td>\n",
       "      <td>Blizzard Entertainment</td>\n",
       "      <td>Electronic Arts</td>\n",
       "    </tr>\n",
       "    <tr>\n",
       "      <th>freq</th>\n",
       "      <td>2</td>\n",
       "      <td>NaN</td>\n",
       "      <td>6</td>\n",
       "      <td>4</td>\n",
       "      <td>26</td>\n",
       "      <td>10</td>\n",
       "      <td>19</td>\n",
       "    </tr>\n",
       "    <tr>\n",
       "      <th>mean</th>\n",
       "      <td>NaN</td>\n",
       "      <td>3.116949</td>\n",
       "      <td>NaN</td>\n",
       "      <td>NaN</td>\n",
       "      <td>NaN</td>\n",
       "      <td>NaN</td>\n",
       "      <td>NaN</td>\n",
       "    </tr>\n",
       "    <tr>\n",
       "      <th>std</th>\n",
       "      <td>NaN</td>\n",
       "      <td>4.937466</td>\n",
       "      <td>NaN</td>\n",
       "      <td>NaN</td>\n",
       "      <td>NaN</td>\n",
       "      <td>NaN</td>\n",
       "      <td>NaN</td>\n",
       "    </tr>\n",
       "    <tr>\n",
       "      <th>min</th>\n",
       "      <td>NaN</td>\n",
       "      <td>1.000000</td>\n",
       "      <td>NaN</td>\n",
       "      <td>NaN</td>\n",
       "      <td>NaN</td>\n",
       "      <td>NaN</td>\n",
       "      <td>NaN</td>\n",
       "    </tr>\n",
       "    <tr>\n",
       "      <th>25%</th>\n",
       "      <td>NaN</td>\n",
       "      <td>1.000000</td>\n",
       "      <td>NaN</td>\n",
       "      <td>NaN</td>\n",
       "      <td>NaN</td>\n",
       "      <td>NaN</td>\n",
       "      <td>NaN</td>\n",
       "    </tr>\n",
       "    <tr>\n",
       "      <th>50%</th>\n",
       "      <td>NaN</td>\n",
       "      <td>1.500000</td>\n",
       "      <td>NaN</td>\n",
       "      <td>NaN</td>\n",
       "      <td>NaN</td>\n",
       "      <td>NaN</td>\n",
       "      <td>NaN</td>\n",
       "    </tr>\n",
       "    <tr>\n",
       "      <th>75%</th>\n",
       "      <td>NaN</td>\n",
       "      <td>3.000000</td>\n",
       "      <td>NaN</td>\n",
       "      <td>NaN</td>\n",
       "      <td>NaN</td>\n",
       "      <td>NaN</td>\n",
       "      <td>NaN</td>\n",
       "    </tr>\n",
       "    <tr>\n",
       "      <th>max</th>\n",
       "      <td>NaN</td>\n",
       "      <td>42.000000</td>\n",
       "      <td>NaN</td>\n",
       "      <td>NaN</td>\n",
       "      <td>NaN</td>\n",
       "      <td>NaN</td>\n",
       "      <td>NaN</td>\n",
       "    </tr>\n",
       "  </tbody>\n",
       "</table>\n",
       "</div>"
      ],
      "text/plain": [
       "                                    Name       Sales     Series   Release  \\\n",
       "count                                177  177.000000        141       177   \n",
       "unique                               175         NaN         91       130   \n",
       "top     StarCraft II: Heart of the Swarm         NaN  StarCraft  3/1/2013   \n",
       "freq                                   2         NaN          6         4   \n",
       "mean                                 NaN    3.116949        NaN       NaN   \n",
       "std                                  NaN    4.937466        NaN       NaN   \n",
       "min                                  NaN    1.000000        NaN       NaN   \n",
       "25%                                  NaN    1.000000        NaN       NaN   \n",
       "50%                                  NaN    1.500000        NaN       NaN   \n",
       "75%                                  NaN    3.000000        NaN       NaN   \n",
       "max                                  NaN   42.000000        NaN       NaN   \n",
       "\n",
       "                     Genre               Developer        Publisher  \n",
       "count                  177                     177              177  \n",
       "unique                  61                     109               96  \n",
       "top     Real-time strategy  Blizzard Entertainment  Electronic Arts  \n",
       "freq                    26                      10               19  \n",
       "mean                   NaN                     NaN              NaN  \n",
       "std                    NaN                     NaN              NaN  \n",
       "min                    NaN                     NaN              NaN  \n",
       "25%                    NaN                     NaN              NaN  \n",
       "50%                    NaN                     NaN              NaN  \n",
       "75%                    NaN                     NaN              NaN  \n",
       "max                    NaN                     NaN              NaN  "
      ]
     },
     "execution_count": 28,
     "metadata": {},
     "output_type": "execute_result"
    }
   ],
   "source": [
    "df.describe(include='all')"
   ]
  },
  {
   "cell_type": "markdown",
   "id": "b37c4af0-b410-4420-a88b-99d3d63107a5",
   "metadata": {},
   "source": [
    "## Cleaning Data"
   ]
  },
  {
   "cell_type": "code",
   "execution_count": 29,
   "id": "3852a153-4a04-471f-85bd-3c1149defe45",
   "metadata": {},
   "outputs": [
    {
     "data": {
      "text/plain": [
       "0"
      ]
     },
     "execution_count": 29,
     "metadata": {},
     "output_type": "execute_result"
    }
   ],
   "source": [
    "# drop data duplicates\n",
    "df = df.drop_duplicates()\n",
    "df.duplicated().sum()"
   ]
  },
  {
   "cell_type": "code",
   "execution_count": 30,
   "id": "a0f67723-ba9a-48ce-b148-61663be0170a",
   "metadata": {},
   "outputs": [
    {
     "name": "stdout",
     "output_type": "stream",
     "text": [
      "<class 'pandas.core.frame.DataFrame'>\n",
      "Index: 175 entries, 0 to 174\n",
      "Data columns (total 7 columns):\n",
      " #   Column     Non-Null Count  Dtype         \n",
      "---  ------     --------------  -----         \n",
      " 0   Name       175 non-null    object        \n",
      " 1   Sales      175 non-null    float64       \n",
      " 2   Series     139 non-null    object        \n",
      " 3   Release    175 non-null    datetime64[ns]\n",
      " 4   Genre      175 non-null    object        \n",
      " 5   Developer  175 non-null    object        \n",
      " 6   Publisher  175 non-null    object        \n",
      "dtypes: datetime64[ns](1), float64(1), object(5)\n",
      "memory usage: 10.9+ KB\n"
     ]
    }
   ],
   "source": [
    "# change datatype in release column to datetime\n",
    "df['Release'] = pd.to_datetime(df['Release'])\n",
    "df.info()"
   ]
  },
  {
   "cell_type": "code",
   "execution_count": 34,
   "id": "347d7e95-6470-4951-b4eb-35d742c10331",
   "metadata": {},
   "outputs": [
    {
     "data": {
      "text/plain": [
       "Name         0\n",
       "Sales        0\n",
       "Series       0\n",
       "Release      0\n",
       "Genre        0\n",
       "Developer    0\n",
       "Publisher    0\n",
       "dtype: int64"
      ]
     },
     "execution_count": 34,
     "metadata": {},
     "output_type": "execute_result"
    }
   ],
   "source": [
    "# drop NaN value in series column\n",
    "df = df.dropna(subset=['Series'])\n",
    "df.isna().sum()"
   ]
  },
  {
   "cell_type": "code",
   "execution_count": 35,
   "id": "e27785df-b963-4779-9663-b6700796bea0",
   "metadata": {},
   "outputs": [
    {
     "name": "stdout",
     "output_type": "stream",
     "text": [
      "<class 'pandas.core.frame.DataFrame'>\n",
      "Index: 139 entries, 1 to 174\n",
      "Data columns (total 7 columns):\n",
      " #   Column     Non-Null Count  Dtype         \n",
      "---  ------     --------------  -----         \n",
      " 0   Name       139 non-null    object        \n",
      " 1   Sales      139 non-null    float64       \n",
      " 2   Series     139 non-null    object        \n",
      " 3   Release    139 non-null    datetime64[ns]\n",
      " 4   Genre      139 non-null    object        \n",
      " 5   Developer  139 non-null    object        \n",
      " 6   Publisher  139 non-null    object        \n",
      "dtypes: datetime64[ns](1), float64(1), object(5)\n",
      "memory usage: 8.7+ KB\n"
     ]
    }
   ],
   "source": [
    "df.info()"
   ]
  },
  {
   "cell_type": "code",
   "execution_count": 36,
   "id": "714a987c-b7b2-498b-9f97-be483c4e94bb",
   "metadata": {},
   "outputs": [
    {
     "data": {
      "text/html": [
       "<div>\n",
       "<style scoped>\n",
       "    .dataframe tbody tr th:only-of-type {\n",
       "        vertical-align: middle;\n",
       "    }\n",
       "\n",
       "    .dataframe tbody tr th {\n",
       "        vertical-align: top;\n",
       "    }\n",
       "\n",
       "    .dataframe thead th {\n",
       "        text-align: right;\n",
       "    }\n",
       "</style>\n",
       "<table border=\"1\" class=\"dataframe\">\n",
       "  <thead>\n",
       "    <tr style=\"text-align: right;\">\n",
       "      <th></th>\n",
       "      <th>Name</th>\n",
       "      <th>Sales</th>\n",
       "      <th>Series</th>\n",
       "      <th>Release</th>\n",
       "      <th>Genre</th>\n",
       "      <th>Developer</th>\n",
       "      <th>Publisher</th>\n",
       "    </tr>\n",
       "  </thead>\n",
       "  <tbody>\n",
       "    <tr>\n",
       "      <th>1</th>\n",
       "      <td>Minecraft</td>\n",
       "      <td>33.0</td>\n",
       "      <td>Minecraft</td>\n",
       "      <td>2011-11-01</td>\n",
       "      <td>Sandbox, survival</td>\n",
       "      <td>Mojang Studios</td>\n",
       "      <td>Mojang Studios</td>\n",
       "    </tr>\n",
       "    <tr>\n",
       "      <th>2</th>\n",
       "      <td>Diablo III</td>\n",
       "      <td>20.0</td>\n",
       "      <td>Diablo</td>\n",
       "      <td>2012-05-01</td>\n",
       "      <td>Action role-playing</td>\n",
       "      <td>Blizzard Entertainment</td>\n",
       "      <td>Blizzard Entertainment</td>\n",
       "    </tr>\n",
       "    <tr>\n",
       "      <th>5</th>\n",
       "      <td>World of Warcraft</td>\n",
       "      <td>14.0</td>\n",
       "      <td>Warcraft</td>\n",
       "      <td>2004-11-01</td>\n",
       "      <td>MMORPG</td>\n",
       "      <td>Blizzard Entertainment</td>\n",
       "      <td>Blizzard Entertainment</td>\n",
       "    </tr>\n",
       "    <tr>\n",
       "      <th>6</th>\n",
       "      <td>Half-Life 2</td>\n",
       "      <td>12.0</td>\n",
       "      <td>Half-Life</td>\n",
       "      <td>2004-11-01</td>\n",
       "      <td>First-person shooter</td>\n",
       "      <td>Valve</td>\n",
       "      <td>Valve (digital)</td>\n",
       "    </tr>\n",
       "    <tr>\n",
       "      <th>7</th>\n",
       "      <td>The Witcher 3: Wild Hunt</td>\n",
       "      <td>12.0</td>\n",
       "      <td>The Witcher</td>\n",
       "      <td>2015-05-01</td>\n",
       "      <td>Action role-playing</td>\n",
       "      <td>CD Projekt Red</td>\n",
       "      <td>CD Projekt</td>\n",
       "    </tr>\n",
       "    <tr>\n",
       "      <th>...</th>\n",
       "      <td>...</td>\n",
       "      <td>...</td>\n",
       "      <td>...</td>\n",
       "      <td>...</td>\n",
       "      <td>...</td>\n",
       "      <td>...</td>\n",
       "      <td>...</td>\n",
       "    </tr>\n",
       "    <tr>\n",
       "      <th>169</th>\n",
       "      <td>Unreal Tournament</td>\n",
       "      <td>1.0</td>\n",
       "      <td>Unreal</td>\n",
       "      <td>1999-11-01</td>\n",
       "      <td>First-person shooter</td>\n",
       "      <td>Epic Games</td>\n",
       "      <td>GT Interactive</td>\n",
       "    </tr>\n",
       "    <tr>\n",
       "      <th>170</th>\n",
       "      <td>Vietcong</td>\n",
       "      <td>1.0</td>\n",
       "      <td>Vietcong</td>\n",
       "      <td>2003-03-01</td>\n",
       "      <td>Tactical shooter</td>\n",
       "      <td>Pterodon</td>\n",
       "      <td>Gathering of Developers</td>\n",
       "    </tr>\n",
       "    <tr>\n",
       "      <th>171</th>\n",
       "      <td>Warhammer Online: Age of Reckoning</td>\n",
       "      <td>1.0</td>\n",
       "      <td>Warhammer</td>\n",
       "      <td>2008-09-01</td>\n",
       "      <td>MMORPG</td>\n",
       "      <td>Mythic Entertainment</td>\n",
       "      <td>Electronic Arts</td>\n",
       "    </tr>\n",
       "    <tr>\n",
       "      <th>173</th>\n",
       "      <td>Wing Commander 3: Heart of the Tiger</td>\n",
       "      <td>1.0</td>\n",
       "      <td>Wing Commander</td>\n",
       "      <td>1994-12-01</td>\n",
       "      <td>Space combat simulation</td>\n",
       "      <td>Origin Systems</td>\n",
       "      <td>Electronic Arts</td>\n",
       "    </tr>\n",
       "    <tr>\n",
       "      <th>174</th>\n",
       "      <td>Zoo Tycoon</td>\n",
       "      <td>1.0</td>\n",
       "      <td>Zoo Tycoon</td>\n",
       "      <td>2001-10-01</td>\n",
       "      <td>Business simulation</td>\n",
       "      <td>Microsoft</td>\n",
       "      <td>Blue Fang Games</td>\n",
       "    </tr>\n",
       "  </tbody>\n",
       "</table>\n",
       "<p>139 rows × 7 columns</p>\n",
       "</div>"
      ],
      "text/plain": [
       "                                     Name  Sales          Series    Release  \\\n",
       "1                               Minecraft   33.0       Minecraft 2011-11-01   \n",
       "2                              Diablo III   20.0          Diablo 2012-05-01   \n",
       "5                       World of Warcraft   14.0        Warcraft 2004-11-01   \n",
       "6                             Half-Life 2   12.0       Half-Life 2004-11-01   \n",
       "7                The Witcher 3: Wild Hunt   12.0     The Witcher 2015-05-01   \n",
       "..                                    ...    ...             ...        ...   \n",
       "169                     Unreal Tournament    1.0          Unreal 1999-11-01   \n",
       "170                              Vietcong    1.0        Vietcong 2003-03-01   \n",
       "171    Warhammer Online: Age of Reckoning    1.0       Warhammer 2008-09-01   \n",
       "173  Wing Commander 3: Heart of the Tiger    1.0  Wing Commander 1994-12-01   \n",
       "174                            Zoo Tycoon    1.0      Zoo Tycoon 2001-10-01   \n",
       "\n",
       "                       Genre               Developer                Publisher  \n",
       "1          Sandbox, survival          Mojang Studios           Mojang Studios  \n",
       "2        Action role-playing  Blizzard Entertainment   Blizzard Entertainment  \n",
       "5                     MMORPG  Blizzard Entertainment   Blizzard Entertainment  \n",
       "6       First-person shooter                   Valve          Valve (digital)  \n",
       "7        Action role-playing          CD Projekt Red               CD Projekt  \n",
       "..                       ...                     ...                      ...  \n",
       "169     First-person shooter              Epic Games           GT Interactive  \n",
       "170         Tactical shooter                Pterodon  Gathering of Developers  \n",
       "171                   MMORPG    Mythic Entertainment          Electronic Arts  \n",
       "173  Space combat simulation          Origin Systems          Electronic Arts  \n",
       "174      Business simulation               Microsoft          Blue Fang Games  \n",
       "\n",
       "[139 rows x 7 columns]"
      ]
     },
     "execution_count": 36,
     "metadata": {},
     "output_type": "execute_result"
    }
   ],
   "source": [
    "df"
   ]
  },
  {
   "cell_type": "markdown",
   "id": "194182e0-6f11-49be-ac2b-fc581f3092a0",
   "metadata": {},
   "source": [
    "## Exploratory Data Analysis (EDA)"
   ]
  },
  {
   "cell_type": "markdown",
   "id": "25ed8f2f-1f87-4b9f-99bb-8790bf99ea49",
   "metadata": {},
   "source": [
    "### 1. Which game is the oldest and the newest games in the dataset?"
   ]
  },
  {
   "cell_type": "code",
   "execution_count": 93,
   "id": "54edc05a-dd7b-4fa1-861f-9459da7e5427",
   "metadata": {},
   "outputs": [
    {
     "data": {
      "text/html": [
       "<div>\n",
       "<style scoped>\n",
       "    .dataframe tbody tr th:only-of-type {\n",
       "        vertical-align: middle;\n",
       "    }\n",
       "\n",
       "    .dataframe tbody tr th {\n",
       "        vertical-align: top;\n",
       "    }\n",
       "\n",
       "    .dataframe thead th {\n",
       "        text-align: right;\n",
       "    }\n",
       "</style>\n",
       "<table border=\"1\" class=\"dataframe\">\n",
       "  <thead>\n",
       "    <tr style=\"text-align: right;\">\n",
       "      <th></th>\n",
       "      <th>Name</th>\n",
       "      <th>Release</th>\n",
       "    </tr>\n",
       "  </thead>\n",
       "  <tbody>\n",
       "    <tr>\n",
       "      <th>1</th>\n",
       "      <td>Minecraft</td>\n",
       "      <td>2011-11-01</td>\n",
       "    </tr>\n",
       "    <tr>\n",
       "      <th>2</th>\n",
       "      <td>Diablo III</td>\n",
       "      <td>2012-05-01</td>\n",
       "    </tr>\n",
       "    <tr>\n",
       "      <th>5</th>\n",
       "      <td>World of Warcraft</td>\n",
       "      <td>2004-11-01</td>\n",
       "    </tr>\n",
       "    <tr>\n",
       "      <th>6</th>\n",
       "      <td>Half-Life 2</td>\n",
       "      <td>2004-11-01</td>\n",
       "    </tr>\n",
       "    <tr>\n",
       "      <th>7</th>\n",
       "      <td>The Witcher 3: Wild Hunt</td>\n",
       "      <td>2015-05-01</td>\n",
       "    </tr>\n",
       "    <tr>\n",
       "      <th>...</th>\n",
       "      <td>...</td>\n",
       "      <td>...</td>\n",
       "    </tr>\n",
       "    <tr>\n",
       "      <th>169</th>\n",
       "      <td>Unreal Tournament</td>\n",
       "      <td>1999-11-01</td>\n",
       "    </tr>\n",
       "    <tr>\n",
       "      <th>170</th>\n",
       "      <td>Vietcong</td>\n",
       "      <td>2003-03-01</td>\n",
       "    </tr>\n",
       "    <tr>\n",
       "      <th>171</th>\n",
       "      <td>Warhammer Online: Age of Reckoning</td>\n",
       "      <td>2008-09-01</td>\n",
       "    </tr>\n",
       "    <tr>\n",
       "      <th>173</th>\n",
       "      <td>Wing Commander 3: Heart of the Tiger</td>\n",
       "      <td>1994-12-01</td>\n",
       "    </tr>\n",
       "    <tr>\n",
       "      <th>174</th>\n",
       "      <td>Zoo Tycoon</td>\n",
       "      <td>2001-10-01</td>\n",
       "    </tr>\n",
       "  </tbody>\n",
       "</table>\n",
       "<p>139 rows × 2 columns</p>\n",
       "</div>"
      ],
      "text/plain": [
       "                                     Name    Release\n",
       "1                               Minecraft 2011-11-01\n",
       "2                              Diablo III 2012-05-01\n",
       "5                       World of Warcraft 2004-11-01\n",
       "6                             Half-Life 2 2004-11-01\n",
       "7                The Witcher 3: Wild Hunt 2015-05-01\n",
       "..                                    ...        ...\n",
       "169                     Unreal Tournament 1999-11-01\n",
       "170                              Vietcong 2003-03-01\n",
       "171    Warhammer Online: Age of Reckoning 2008-09-01\n",
       "173  Wing Commander 3: Heart of the Tiger 1994-12-01\n",
       "174                            Zoo Tycoon 2001-10-01\n",
       "\n",
       "[139 rows x 2 columns]"
      ]
     },
     "execution_count": 93,
     "metadata": {},
     "output_type": "execute_result"
    }
   ],
   "source": [
    "df.iloc[:,[0,3]]"
   ]
  },
  {
   "cell_type": "code",
   "execution_count": 101,
   "id": "fe69e4ed-f20e-43f0-850e-8196c0346db4",
   "metadata": {},
   "outputs": [
    {
     "data": {
      "text/html": [
       "<div>\n",
       "<style scoped>\n",
       "    .dataframe tbody tr th:only-of-type {\n",
       "        vertical-align: middle;\n",
       "    }\n",
       "\n",
       "    .dataframe tbody tr th {\n",
       "        vertical-align: top;\n",
       "    }\n",
       "\n",
       "    .dataframe thead th {\n",
       "        text-align: right;\n",
       "    }\n",
       "</style>\n",
       "<table border=\"1\" class=\"dataframe\">\n",
       "  <thead>\n",
       "    <tr style=\"text-align: right;\">\n",
       "      <th></th>\n",
       "      <th>Name</th>\n",
       "      <th>Release</th>\n",
       "    </tr>\n",
       "  </thead>\n",
       "  <tbody>\n",
       "    <tr>\n",
       "      <th>110</th>\n",
       "      <td>Crusader Kings III</td>\n",
       "      <td>2020-09-01</td>\n",
       "    </tr>\n",
       "    <tr>\n",
       "      <th>117</th>\n",
       "      <td>Divinity: Original Sin II</td>\n",
       "      <td>2017-09-01</td>\n",
       "    </tr>\n",
       "    <tr>\n",
       "      <th>94</th>\n",
       "      <td>Nier: Automata</td>\n",
       "      <td>2017-03-01</td>\n",
       "    </tr>\n",
       "    <tr>\n",
       "      <th>128</th>\n",
       "      <td>Hearts of Iron IV</td>\n",
       "      <td>2016-06-01</td>\n",
       "    </tr>\n",
       "    <tr>\n",
       "      <th>53</th>\n",
       "      <td>7 Days to Die</td>\n",
       "      <td>2016-06-01</td>\n",
       "    </tr>\n",
       "  </tbody>\n",
       "</table>\n",
       "</div>"
      ],
      "text/plain": [
       "                          Name    Release\n",
       "110         Crusader Kings III 2020-09-01\n",
       "117  Divinity: Original Sin II 2017-09-01\n",
       "94              Nier: Automata 2017-03-01\n",
       "128          Hearts of Iron IV 2016-06-01\n",
       "53               7 Days to Die 2016-06-01"
      ]
     },
     "execution_count": 101,
     "metadata": {},
     "output_type": "execute_result"
    }
   ],
   "source": [
    "newest_game = df[['Name', 'Release']].sort_values(by='Release', ascending=False).head(5)\n",
    "newest_game"
   ]
  },
  {
   "cell_type": "code",
   "execution_count": 102,
   "id": "a84b212a-4a9e-486a-8576-9e7cb0527c25",
   "metadata": {},
   "outputs": [
    {
     "data": {
      "text/html": [
       "<div>\n",
       "<style scoped>\n",
       "    .dataframe tbody tr th:only-of-type {\n",
       "        vertical-align: middle;\n",
       "    }\n",
       "\n",
       "    .dataframe tbody tr th {\n",
       "        vertical-align: top;\n",
       "    }\n",
       "\n",
       "    .dataframe thead th {\n",
       "        text-align: right;\n",
       "    }\n",
       "</style>\n",
       "<table border=\"1\" class=\"dataframe\">\n",
       "  <thead>\n",
       "    <tr style=\"text-align: right;\">\n",
       "      <th></th>\n",
       "      <th>Name</th>\n",
       "      <th>Release</th>\n",
       "    </tr>\n",
       "  </thead>\n",
       "  <tbody>\n",
       "    <tr>\n",
       "      <th>133</th>\n",
       "      <td>Hydlide</td>\n",
       "      <td>1984-12-01</td>\n",
       "    </tr>\n",
       "    <tr>\n",
       "      <th>34</th>\n",
       "      <td>Where in the World Is Carmen Sandiego?</td>\n",
       "      <td>1985-06-01</td>\n",
       "    </tr>\n",
       "    <tr>\n",
       "      <th>88</th>\n",
       "      <td>International Karate</td>\n",
       "      <td>1985-11-01</td>\n",
       "    </tr>\n",
       "    <tr>\n",
       "      <th>162</th>\n",
       "      <td>Tetris</td>\n",
       "      <td>1988-01-01</td>\n",
       "    </tr>\n",
       "    <tr>\n",
       "      <th>22</th>\n",
       "      <td>Last Ninja 2</td>\n",
       "      <td>1988-08-01</td>\n",
       "    </tr>\n",
       "  </tbody>\n",
       "</table>\n",
       "</div>"
      ],
      "text/plain": [
       "                                       Name    Release\n",
       "133                                 Hydlide 1984-12-01\n",
       "34   Where in the World Is Carmen Sandiego? 1985-06-01\n",
       "88                     International Karate 1985-11-01\n",
       "162                                  Tetris 1988-01-01\n",
       "22                             Last Ninja 2 1988-08-01"
      ]
     },
     "execution_count": 102,
     "metadata": {},
     "output_type": "execute_result"
    }
   ],
   "source": [
    "oldest_game = df[['Name', 'Release']].sort_values(by='Release', ascending=True).head(5)\n",
    "oldest_game"
   ]
  },
  {
   "cell_type": "markdown",
   "id": "4ef2dcde-9e0b-480f-9157-1617f43a7546",
   "metadata": {},
   "source": [
    "Based on date of release column, the oldest game is Hydlide when it was released at 1984 while the newest game is Crusader Kings III when it was released at 2020"
   ]
  },
  {
   "cell_type": "markdown",
   "id": "676390f9-5bda-46d1-ac87-2b84519b8ab0",
   "metadata": {},
   "source": [
    "### 2. Which publisher published most of the games?"
   ]
  },
  {
   "cell_type": "code",
   "execution_count": 64,
   "id": "58445230-90a6-4d8a-925e-ace529ce9c14",
   "metadata": {},
   "outputs": [
    {
     "data": {
      "text/plain": [
       "Publisher\n",
       "Electronic Arts            19\n",
       "Blizzard Entertainment      8\n",
       "Activision                  6\n",
       "GT Interactive              5\n",
       "Paradox Interactive         4\n",
       "Microsoft                   4\n",
       "Capcom                      4\n",
       "Gathering of Developers     4\n",
       "THQ                         3\n",
       "Ubisoft                     2\n",
       "Name: count, dtype: int64"
      ]
     },
     "execution_count": 64,
     "metadata": {},
     "output_type": "execute_result"
    }
   ],
   "source": [
    "count_of_publisher = df.Publisher.value_counts().head(10)\n",
    "count_of_publisher"
   ]
  },
  {
   "cell_type": "code",
   "execution_count": 103,
   "id": "5dfad3de-69ab-4e32-9fe6-0da5ebc9b8c6",
   "metadata": {},
   "outputs": [
    {
     "name": "stderr",
     "output_type": "stream",
     "text": [
      "C:\\Users\\Administrator\\AppData\\Local\\Programs\\Python\\Python311\\Lib\\site-packages\\seaborn\\_oldcore.py:1498: FutureWarning: is_categorical_dtype is deprecated and will be removed in a future version. Use isinstance(dtype, CategoricalDtype) instead\n",
      "  if pd.api.types.is_categorical_dtype(vector):\n",
      "C:\\Users\\Administrator\\AppData\\Local\\Programs\\Python\\Python311\\Lib\\site-packages\\seaborn\\_oldcore.py:1498: FutureWarning: is_categorical_dtype is deprecated and will be removed in a future version. Use isinstance(dtype, CategoricalDtype) instead\n",
      "  if pd.api.types.is_categorical_dtype(vector):\n"
     ]
    },
    {
     "data": {
      "image/png": "[encoded data removed]",
      "text/plain": [
       "<Figure size 600x400 with 1 Axes>"
      ]
     },
     "metadata": {},
     "output_type": "display_data"
    }
   ],
   "source": [
    "# data visualization\n",
    "plt.figure(figsize=(6, 4))\n",
    "sns.countplot(data=df, y='Publisher', order=count_of_publisher.index)\n",
    "plt.ylabel('Publisher')\n",
    "plt.xlabel('Count')\n",
    "plt.xticks(range(0,20))\n",
    "plt.title('Top 10 Publisher that most published the games')\n",
    "plt.show()"
   ]
  },
  {
   "cell_type": "markdown",
   "id": "41df5bc5-1032-425a-954a-2bb1a05aeae6",
   "metadata": {},
   "source": [
    "Based on the bar chart, the publisher that publishes the most game is Electronic Arts with 19 games"
   ]
  },
  {
   "cell_type": "markdown",
   "id": "87be5daf-38a1-4513-af8b-c05f9243c073",
   "metadata": {},
   "source": [
    "### 3. which developer developed most of the games?"
   ]
  },
  {
   "cell_type": "code",
   "execution_count": 73,
   "id": "7569d87d-a939-4562-8433-43690adebc02",
   "metadata": {},
   "outputs": [
    {
     "data": {
      "text/plain": [
       "Developer\n",
       "Blizzard Entertainment        8\n",
       "Maxis                         6\n",
       "Valve                         4\n",
       "Paradox Development Studio    4\n",
       "id Software                   4\n",
       "Capcom                        4\n",
       "Ensemble Studios              4\n",
       "Impressions Game              3\n",
       "FromSoftware                  3\n",
       "CD Projekt Red                3\n",
       "Name: count, dtype: int64"
      ]
     },
     "execution_count": 73,
     "metadata": {},
     "output_type": "execute_result"
    }
   ],
   "source": [
    "count_of_dev = df.Developer.value_counts().head(10)\n",
    "count_of_dev"
   ]
  },
  {
   "cell_type": "code",
   "execution_count": 76,
   "id": "39ff1dcb-bc22-4223-a7f8-93948b9435e4",
   "metadata": {},
   "outputs": [
    {
     "name": "stderr",
     "output_type": "stream",
     "text": [
      "C:\\Users\\Administrator\\AppData\\Local\\Programs\\Python\\Python311\\Lib\\site-packages\\seaborn\\_oldcore.py:1498: FutureWarning: is_categorical_dtype is deprecated and will be removed in a future version. Use isinstance(dtype, CategoricalDtype) instead\n",
      "  if pd.api.types.is_categorical_dtype(vector):\n",
      "C:\\Users\\Administrator\\AppData\\Local\\Programs\\Python\\Python311\\Lib\\site-packages\\seaborn\\_oldcore.py:1498: FutureWarning: is_categorical_dtype is deprecated and will be removed in a future version. Use isinstance(dtype, CategoricalDtype) instead\n",
      "  if pd.api.types.is_categorical_dtype(vector):\n"
     ]
    },
    {
     "data": {
      "image/png": "[encoded data removed]",
      "text/plain": [
       "<Figure size 600x400 with 1 Axes>"
      ]
     },
     "metadata": {},
     "output_type": "display_data"
    }
   ],
   "source": [
    "# data visualization\n",
    "plt.figure(figsize=(6, 4))\n",
    "sns.countplot(data=df, y='Developer', order=count_of_dev.index)\n",
    "plt.ylabel('Developer')\n",
    "plt.xlabel('Count')\n",
    "plt.xticks(range(0,10))\n",
    "plt.title('Most Developer Developed the games')\n",
    "plt.show()"
   ]
  },
  {
   "cell_type": "markdown",
   "id": "cce9e37e-a3d0-402b-bfc0-c94edd817262",
   "metadata": {},
   "source": [
    "Based on the bar chart, the developer that developes the most game is Blizzard Entertainment with 8 games"
   ]
  },
  {
   "cell_type": "markdown",
   "id": "5933cfbd-4cc3-44d0-942c-41cbe81a0bac",
   "metadata": {},
   "source": [
    "### 4. Which series has the most sales?"
   ]
  },
  {
   "cell_type": "code",
   "execution_count": 84,
   "id": "cf300646-5352-44f5-9af0-c76a26450a0f",
   "metadata": {},
   "outputs": [
    {
     "data": {
      "text/html": [
       "<div>\n",
       "<style scoped>\n",
       "    .dataframe tbody tr th:only-of-type {\n",
       "        vertical-align: middle;\n",
       "    }\n",
       "\n",
       "    .dataframe tbody tr th {\n",
       "        vertical-align: top;\n",
       "    }\n",
       "\n",
       "    .dataframe thead th {\n",
       "        text-align: right;\n",
       "    }\n",
       "</style>\n",
       "<table border=\"1\" class=\"dataframe\">\n",
       "  <thead>\n",
       "    <tr style=\"text-align: right;\">\n",
       "      <th></th>\n",
       "      <th>Sales</th>\n",
       "      <th>Series</th>\n",
       "    </tr>\n",
       "  </thead>\n",
       "  <tbody>\n",
       "    <tr>\n",
       "      <th>1</th>\n",
       "      <td>33.0</td>\n",
       "      <td>Minecraft</td>\n",
       "    </tr>\n",
       "    <tr>\n",
       "      <th>2</th>\n",
       "      <td>20.0</td>\n",
       "      <td>Diablo</td>\n",
       "    </tr>\n",
       "    <tr>\n",
       "      <th>5</th>\n",
       "      <td>14.0</td>\n",
       "      <td>Warcraft</td>\n",
       "    </tr>\n",
       "    <tr>\n",
       "      <th>6</th>\n",
       "      <td>12.0</td>\n",
       "      <td>Half-Life</td>\n",
       "    </tr>\n",
       "    <tr>\n",
       "      <th>7</th>\n",
       "      <td>12.0</td>\n",
       "      <td>The Witcher</td>\n",
       "    </tr>\n",
       "    <tr>\n",
       "      <th>...</th>\n",
       "      <td>...</td>\n",
       "      <td>...</td>\n",
       "    </tr>\n",
       "    <tr>\n",
       "      <th>169</th>\n",
       "      <td>1.0</td>\n",
       "      <td>Unreal</td>\n",
       "    </tr>\n",
       "    <tr>\n",
       "      <th>170</th>\n",
       "      <td>1.0</td>\n",
       "      <td>Vietcong</td>\n",
       "    </tr>\n",
       "    <tr>\n",
       "      <th>171</th>\n",
       "      <td>1.0</td>\n",
       "      <td>Warhammer</td>\n",
       "    </tr>\n",
       "    <tr>\n",
       "      <th>173</th>\n",
       "      <td>1.0</td>\n",
       "      <td>Wing Commander</td>\n",
       "    </tr>\n",
       "    <tr>\n",
       "      <th>174</th>\n",
       "      <td>1.0</td>\n",
       "      <td>Zoo Tycoon</td>\n",
       "    </tr>\n",
       "  </tbody>\n",
       "</table>\n",
       "<p>139 rows × 2 columns</p>\n",
       "</div>"
      ],
      "text/plain": [
       "     Sales          Series\n",
       "1     33.0       Minecraft\n",
       "2     20.0          Diablo\n",
       "5     14.0        Warcraft\n",
       "6     12.0       Half-Life\n",
       "7     12.0     The Witcher\n",
       "..     ...             ...\n",
       "169    1.0          Unreal\n",
       "170    1.0        Vietcong\n",
       "171    1.0       Warhammer\n",
       "173    1.0  Wing Commander\n",
       "174    1.0      Zoo Tycoon\n",
       "\n",
       "[139 rows x 2 columns]"
      ]
     },
     "execution_count": 84,
     "metadata": {},
     "output_type": "execute_result"
    }
   ],
   "source": [
    "df.iloc[:,[1,2]]"
   ]
  },
  {
   "cell_type": "code",
   "execution_count": 90,
   "id": "7dda2597-f460-4efb-8c84-ca8c0ff1c18a",
   "metadata": {},
   "outputs": [
    {
     "name": "stderr",
     "output_type": "stream",
     "text": [
      "C:\\Users\\Administrator\\AppData\\Local\\Programs\\Python\\Python311\\Lib\\site-packages\\seaborn\\_oldcore.py:1498: FutureWarning: is_categorical_dtype is deprecated and will be removed in a future version. Use isinstance(dtype, CategoricalDtype) instead\n",
      "  if pd.api.types.is_categorical_dtype(vector):\n",
      "C:\\Users\\Administrator\\AppData\\Local\\Programs\\Python\\Python311\\Lib\\site-packages\\seaborn\\_oldcore.py:1498: FutureWarning: is_categorical_dtype is deprecated and will be removed in a future version. Use isinstance(dtype, CategoricalDtype) instead\n",
      "  if pd.api.types.is_categorical_dtype(vector):\n",
      "C:\\Users\\Administrator\\AppData\\Local\\Programs\\Python\\Python311\\Lib\\site-packages\\seaborn\\_oldcore.py:1498: FutureWarning: is_categorical_dtype is deprecated and will be removed in a future version. Use isinstance(dtype, CategoricalDtype) instead\n",
      "  if pd.api.types.is_categorical_dtype(vector):\n"
     ]
    },
    {
     "data": {
      "image/png": "[encoded data removed]",
      "text/plain": [
       "<Figure size 600x400 with 1 Axes>"
      ]
     },
     "metadata": {},
     "output_type": "display_data"
    }
   ],
   "source": [
    "top_sales_series = df[['Sales', 'Series']].head(10)\n",
    "top_sales_series = top_sales_series.sort_values(by='Sales', ascending=False)\n",
    "\n",
    "# Data visualization\n",
    "plt.figure(figsize=(6, 4))\n",
    "sns.barplot(data=top_sales_series, x='Sales', y='Series')\n",
    "plt.xlabel('Sales')\n",
    "plt.ylabel('Series')\n",
    "plt.title('Top 10 Series by the most sales')\n",
    "plt.show()"
   ]
  },
  {
   "cell_type": "markdown",
   "id": "1277a3e4-ab06-47ce-bc4b-5944b6879466",
   "metadata": {},
   "source": [
    "Based on the bar chart, the most sales of series are 33 millions with Minecraft series name"
   ]
  },
  {
   "cell_type": "markdown",
   "id": "4a297dad-e5a2-4495-88a3-b07920d0b074",
   "metadata": {},
   "source": [
    "### 5. Which series have the most games?"
   ]
  },
  {
   "cell_type": "code",
   "execution_count": 79,
   "id": "a92d9d7b-0352-46b6-b8e1-49486f241536",
   "metadata": {},
   "outputs": [
    {
     "data": {
      "text/plain": [
       "Series\n",
       "Command & Conquer    5\n",
       "StarCraft            4\n",
       "Civilization         4\n",
       "Age of Empires       4\n",
       "Warcraft             3\n",
       "The Witcher          3\n",
       "The Sims             3\n",
       "Diablo               3\n",
       "Dark Souls           3\n",
       "Resident Evil        3\n",
       "Name: count, dtype: int64"
      ]
     },
     "execution_count": 79,
     "metadata": {},
     "output_type": "execute_result"
    }
   ],
   "source": [
    "count_of_series = df.Series.value_counts().head(10)\n",
    "count_of_series"
   ]
  },
  {
   "cell_type": "code",
   "execution_count": 81,
   "id": "ae5d6859-bfc5-47ec-9769-364e2191d915",
   "metadata": {},
   "outputs": [
    {
     "name": "stderr",
     "output_type": "stream",
     "text": [
      "C:\\Users\\Administrator\\AppData\\Local\\Programs\\Python\\Python311\\Lib\\site-packages\\seaborn\\_oldcore.py:1498: FutureWarning: is_categorical_dtype is deprecated and will be removed in a future version. Use isinstance(dtype, CategoricalDtype) instead\n",
      "  if pd.api.types.is_categorical_dtype(vector):\n",
      "C:\\Users\\Administrator\\AppData\\Local\\Programs\\Python\\Python311\\Lib\\site-packages\\seaborn\\_oldcore.py:1498: FutureWarning: is_categorical_dtype is deprecated and will be removed in a future version. Use isinstance(dtype, CategoricalDtype) instead\n",
      "  if pd.api.types.is_categorical_dtype(vector):\n"
     ]
    },
    {
     "data": {
      "image/png": "[encoded data removed]",
      "text/plain": [
       "<Figure size 600x400 with 1 Axes>"
      ]
     },
     "metadata": {},
     "output_type": "display_data"
    }
   ],
   "source": [
    "# data visualization\n",
    "plt.figure(figsize=(6, 4))\n",
    "sns.countplot(data=df, y='Series', order=count_of_series.index)\n",
    "plt.ylabel('Series')\n",
    "plt.xlabel('Count')\n",
    "plt.xticks(range(0,7))\n",
    "plt.title('Top 10 Series have most the games')\n",
    "plt.show()"
   ]
  },
  {
   "cell_type": "markdown",
   "id": "571a9e67-7919-4868-8784-bcfc5bb1ba31",
   "metadata": {},
   "source": [
    "Based on the bar chart, the series that has the most game is Command and Conquer with 5 games"
   ]
  }
 ],
 "metadata": {
  "kernelspec": {
   "display_name": "Python 3 (ipykernel)",
   "language": "python",
   "name": "python3"
  },
  "language_info": {
   "codemirror_mode": {
    "name": "ipython",
    "version": 3
   },
   "file_extension": ".py",
   "mimetype": "text/x-python",
   "name": "python",
   "nbconvert_exporter": "python",
   "pygments_lexer": "ipython3",
   "version": "3.11.5"
  }
 },
 "nbformat": 4,
 "nbformat_minor": 5
}
